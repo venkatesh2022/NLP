{
  "nbformat": 4,
  "nbformat_minor": 0,
  "metadata": {
    "colab": {
      "provenance": []
    },
    "kernelspec": {
      "name": "python3",
      "display_name": "Python 3"
    },
    "language_info": {
      "name": "python"
    }
  },
  "cells": [
    {
      "cell_type": "code",
      "source": [
        "!pip install tensorflow-text"
      ],
      "metadata": {
        "colab": {
          "base_uri": "https://localhost:8080/"
        },
        "id": "pnJV8L4bHLR0",
        "outputId": "65531670-10ae-4218-f545-6c386408bd2a"
      },
      "execution_count": 1,
      "outputs": [
        {
          "output_type": "stream",
          "name": "stdout",
          "text": [
            "Requirement already satisfied: tensorflow-text in /usr/local/lib/python3.10/dist-packages (2.13.0)\n",
            "Requirement already satisfied: tensorflow-hub>=0.8.0 in /usr/local/lib/python3.10/dist-packages (from tensorflow-text) (0.14.0)\n",
            "Requirement already satisfied: tensorflow<2.14,>=2.13.0 in /usr/local/lib/python3.10/dist-packages (from tensorflow-text) (2.13.0)\n",
            "Requirement already satisfied: absl-py>=1.0.0 in /usr/local/lib/python3.10/dist-packages (from tensorflow<2.14,>=2.13.0->tensorflow-text) (1.4.0)\n",
            "Requirement already satisfied: astunparse>=1.6.0 in /usr/local/lib/python3.10/dist-packages (from tensorflow<2.14,>=2.13.0->tensorflow-text) (1.6.3)\n",
            "Requirement already satisfied: flatbuffers>=23.1.21 in /usr/local/lib/python3.10/dist-packages (from tensorflow<2.14,>=2.13.0->tensorflow-text) (23.5.26)\n",
            "Requirement already satisfied: gast<=0.4.0,>=0.2.1 in /usr/local/lib/python3.10/dist-packages (from tensorflow<2.14,>=2.13.0->tensorflow-text) (0.4.0)\n",
            "Requirement already satisfied: google-pasta>=0.1.1 in /usr/local/lib/python3.10/dist-packages (from tensorflow<2.14,>=2.13.0->tensorflow-text) (0.2.0)\n",
            "Requirement already satisfied: grpcio<2.0,>=1.24.3 in /usr/local/lib/python3.10/dist-packages (from tensorflow<2.14,>=2.13.0->tensorflow-text) (1.56.2)\n",
            "Requirement already satisfied: h5py>=2.9.0 in /usr/local/lib/python3.10/dist-packages (from tensorflow<2.14,>=2.13.0->tensorflow-text) (3.8.0)\n",
            "Requirement already satisfied: keras<2.14,>=2.13.1 in /usr/local/lib/python3.10/dist-packages (from tensorflow<2.14,>=2.13.0->tensorflow-text) (2.13.1)\n",
            "Requirement already satisfied: libclang>=13.0.0 in /usr/local/lib/python3.10/dist-packages (from tensorflow<2.14,>=2.13.0->tensorflow-text) (16.0.6)\n",
            "Requirement already satisfied: numpy<=1.24.3,>=1.22 in /usr/local/lib/python3.10/dist-packages (from tensorflow<2.14,>=2.13.0->tensorflow-text) (1.22.4)\n",
            "Requirement already satisfied: opt-einsum>=2.3.2 in /usr/local/lib/python3.10/dist-packages (from tensorflow<2.14,>=2.13.0->tensorflow-text) (3.3.0)\n",
            "Requirement already satisfied: packaging in /usr/local/lib/python3.10/dist-packages (from tensorflow<2.14,>=2.13.0->tensorflow-text) (23.1)\n",
            "Requirement already satisfied: protobuf!=4.21.0,!=4.21.1,!=4.21.2,!=4.21.3,!=4.21.4,!=4.21.5,<5.0.0dev,>=3.20.3 in /usr/local/lib/python3.10/dist-packages (from tensorflow<2.14,>=2.13.0->tensorflow-text) (3.20.3)\n",
            "Requirement already satisfied: setuptools in /usr/local/lib/python3.10/dist-packages (from tensorflow<2.14,>=2.13.0->tensorflow-text) (67.7.2)\n",
            "Requirement already satisfied: six>=1.12.0 in /usr/local/lib/python3.10/dist-packages (from tensorflow<2.14,>=2.13.0->tensorflow-text) (1.16.0)\n",
            "Requirement already satisfied: tensorboard<2.14,>=2.13 in /usr/local/lib/python3.10/dist-packages (from tensorflow<2.14,>=2.13.0->tensorflow-text) (2.13.0)\n",
            "Requirement already satisfied: tensorflow-estimator<2.14,>=2.13.0 in /usr/local/lib/python3.10/dist-packages (from tensorflow<2.14,>=2.13.0->tensorflow-text) (2.13.0)\n",
            "Requirement already satisfied: termcolor>=1.1.0 in /usr/local/lib/python3.10/dist-packages (from tensorflow<2.14,>=2.13.0->tensorflow-text) (2.3.0)\n",
            "Requirement already satisfied: typing-extensions<4.6.0,>=3.6.6 in /usr/local/lib/python3.10/dist-packages (from tensorflow<2.14,>=2.13.0->tensorflow-text) (4.5.0)\n",
            "Requirement already satisfied: wrapt>=1.11.0 in /usr/local/lib/python3.10/dist-packages (from tensorflow<2.14,>=2.13.0->tensorflow-text) (1.14.1)\n",
            "Requirement already satisfied: tensorflow-io-gcs-filesystem>=0.23.1 in /usr/local/lib/python3.10/dist-packages (from tensorflow<2.14,>=2.13.0->tensorflow-text) (0.32.0)\n",
            "Requirement already satisfied: wheel<1.0,>=0.23.0 in /usr/local/lib/python3.10/dist-packages (from astunparse>=1.6.0->tensorflow<2.14,>=2.13.0->tensorflow-text) (0.41.0)\n",
            "Requirement already satisfied: google-auth<3,>=1.6.3 in /usr/local/lib/python3.10/dist-packages (from tensorboard<2.14,>=2.13->tensorflow<2.14,>=2.13.0->tensorflow-text) (2.17.3)\n",
            "Requirement already satisfied: google-auth-oauthlib<1.1,>=0.5 in /usr/local/lib/python3.10/dist-packages (from tensorboard<2.14,>=2.13->tensorflow<2.14,>=2.13.0->tensorflow-text) (1.0.0)\n",
            "Requirement already satisfied: markdown>=2.6.8 in /usr/local/lib/python3.10/dist-packages (from tensorboard<2.14,>=2.13->tensorflow<2.14,>=2.13.0->tensorflow-text) (3.4.3)\n",
            "Requirement already satisfied: requests<3,>=2.21.0 in /usr/local/lib/python3.10/dist-packages (from tensorboard<2.14,>=2.13->tensorflow<2.14,>=2.13.0->tensorflow-text) (2.27.1)\n",
            "Requirement already satisfied: tensorboard-data-server<0.8.0,>=0.7.0 in /usr/local/lib/python3.10/dist-packages (from tensorboard<2.14,>=2.13->tensorflow<2.14,>=2.13.0->tensorflow-text) (0.7.1)\n",
            "Requirement already satisfied: werkzeug>=1.0.1 in /usr/local/lib/python3.10/dist-packages (from tensorboard<2.14,>=2.13->tensorflow<2.14,>=2.13.0->tensorflow-text) (2.3.6)\n",
            "Requirement already satisfied: cachetools<6.0,>=2.0.0 in /usr/local/lib/python3.10/dist-packages (from google-auth<3,>=1.6.3->tensorboard<2.14,>=2.13->tensorflow<2.14,>=2.13.0->tensorflow-text) (5.3.1)\n",
            "Requirement already satisfied: pyasn1-modules>=0.2.1 in /usr/local/lib/python3.10/dist-packages (from google-auth<3,>=1.6.3->tensorboard<2.14,>=2.13->tensorflow<2.14,>=2.13.0->tensorflow-text) (0.3.0)\n",
            "Requirement already satisfied: rsa<5,>=3.1.4 in /usr/local/lib/python3.10/dist-packages (from google-auth<3,>=1.6.3->tensorboard<2.14,>=2.13->tensorflow<2.14,>=2.13.0->tensorflow-text) (4.9)\n",
            "Requirement already satisfied: requests-oauthlib>=0.7.0 in /usr/local/lib/python3.10/dist-packages (from google-auth-oauthlib<1.1,>=0.5->tensorboard<2.14,>=2.13->tensorflow<2.14,>=2.13.0->tensorflow-text) (1.3.1)\n",
            "Requirement already satisfied: urllib3<1.27,>=1.21.1 in /usr/local/lib/python3.10/dist-packages (from requests<3,>=2.21.0->tensorboard<2.14,>=2.13->tensorflow<2.14,>=2.13.0->tensorflow-text) (1.26.16)\n",
            "Requirement already satisfied: certifi>=2017.4.17 in /usr/local/lib/python3.10/dist-packages (from requests<3,>=2.21.0->tensorboard<2.14,>=2.13->tensorflow<2.14,>=2.13.0->tensorflow-text) (2023.7.22)\n",
            "Requirement already satisfied: charset-normalizer~=2.0.0 in /usr/local/lib/python3.10/dist-packages (from requests<3,>=2.21.0->tensorboard<2.14,>=2.13->tensorflow<2.14,>=2.13.0->tensorflow-text) (2.0.12)\n",
            "Requirement already satisfied: idna<4,>=2.5 in /usr/local/lib/python3.10/dist-packages (from requests<3,>=2.21.0->tensorboard<2.14,>=2.13->tensorflow<2.14,>=2.13.0->tensorflow-text) (3.4)\n",
            "Requirement already satisfied: MarkupSafe>=2.1.1 in /usr/local/lib/python3.10/dist-packages (from werkzeug>=1.0.1->tensorboard<2.14,>=2.13->tensorflow<2.14,>=2.13.0->tensorflow-text) (2.1.3)\n",
            "Requirement already satisfied: pyasn1<0.6.0,>=0.4.6 in /usr/local/lib/python3.10/dist-packages (from pyasn1-modules>=0.2.1->google-auth<3,>=1.6.3->tensorboard<2.14,>=2.13->tensorflow<2.14,>=2.13.0->tensorflow-text) (0.5.0)\n",
            "Requirement already satisfied: oauthlib>=3.0.0 in /usr/local/lib/python3.10/dist-packages (from requests-oauthlib>=0.7.0->google-auth-oauthlib<1.1,>=0.5->tensorboard<2.14,>=2.13->tensorflow<2.14,>=2.13.0->tensorflow-text) (3.2.2)\n"
          ]
        }
      ]
    },
    {
      "cell_type": "code",
      "execution_count": 2,
      "metadata": {
        "id": "VtsFF2DSG0uH"
      },
      "outputs": [],
      "source": [
        "import tensorflow_hub as hub\n",
        "import tensorflow_text as text"
      ]
    },
    {
      "cell_type": "code",
      "source": [
        "preprocessing_url='https://tfhub.dev/tensorflow/bert_en_uncased_preprocess/3'\n",
        "encoder_url='https://tfhub.dev/tensorflow/bert_en_uncased_L-12_H-768_A-12/4'"
      ],
      "metadata": {
        "id": "IDPx_9OvG-TI"
      },
      "execution_count": 3,
      "outputs": []
    },
    {
      "cell_type": "code",
      "source": [
        "bert_preprocessing_model = hub.KerasLayer(preprocessing_url)"
      ],
      "metadata": {
        "id": "iU7xYjkmIRaP"
      },
      "execution_count": 4,
      "outputs": []
    },
    {
      "cell_type": "code",
      "source": [
        "text_test = ['Really liked the movie','I like cinematography']\n",
        "text_processed = bert_preprocessing_model(text_test)\n",
        "text_processed.keys()"
      ],
      "metadata": {
        "colab": {
          "base_uri": "https://localhost:8080/"
        },
        "id": "1MYrTkeLIhCt",
        "outputId": "5029fd69-25e6-4fc7-d385-7245822eeb7e"
      },
      "execution_count": 5,
      "outputs": [
        {
          "output_type": "execute_result",
          "data": {
            "text/plain": [
              "dict_keys(['input_word_ids', 'input_mask', 'input_type_ids'])"
            ]
          },
          "metadata": {},
          "execution_count": 5
        }
      ]
    },
    {
      "cell_type": "code",
      "source": [
        "text_processed['input_mask']\n",
        "\n",
        "# CLS Really liked the movie SEP ; so there are 6 ones.\n",
        "# CLS I like cinematography SEP; so there are 5 ones.\n",
        "# 128 is the maximum length of sentence."
      ],
      "metadata": {
        "colab": {
          "base_uri": "https://localhost:8080/"
        },
        "id": "iazAihfDI_Kj",
        "outputId": "f9feefc6-489d-430e-d5d8-65d1b6d53172"
      },
      "execution_count": 6,
      "outputs": [
        {
          "output_type": "execute_result",
          "data": {
            "text/plain": [
              "<tf.Tensor: shape=(2, 128), dtype=int32, numpy=\n",
              "array([[1, 1, 1, 1, 1, 1, 0, 0, 0, 0, 0, 0, 0, 0, 0, 0, 0, 0, 0, 0, 0, 0,\n",
              "        0, 0, 0, 0, 0, 0, 0, 0, 0, 0, 0, 0, 0, 0, 0, 0, 0, 0, 0, 0, 0, 0,\n",
              "        0, 0, 0, 0, 0, 0, 0, 0, 0, 0, 0, 0, 0, 0, 0, 0, 0, 0, 0, 0, 0, 0,\n",
              "        0, 0, 0, 0, 0, 0, 0, 0, 0, 0, 0, 0, 0, 0, 0, 0, 0, 0, 0, 0, 0, 0,\n",
              "        0, 0, 0, 0, 0, 0, 0, 0, 0, 0, 0, 0, 0, 0, 0, 0, 0, 0, 0, 0, 0, 0,\n",
              "        0, 0, 0, 0, 0, 0, 0, 0, 0, 0, 0, 0, 0, 0, 0, 0, 0, 0],\n",
              "       [1, 1, 1, 1, 1, 0, 0, 0, 0, 0, 0, 0, 0, 0, 0, 0, 0, 0, 0, 0, 0, 0,\n",
              "        0, 0, 0, 0, 0, 0, 0, 0, 0, 0, 0, 0, 0, 0, 0, 0, 0, 0, 0, 0, 0, 0,\n",
              "        0, 0, 0, 0, 0, 0, 0, 0, 0, 0, 0, 0, 0, 0, 0, 0, 0, 0, 0, 0, 0, 0,\n",
              "        0, 0, 0, 0, 0, 0, 0, 0, 0, 0, 0, 0, 0, 0, 0, 0, 0, 0, 0, 0, 0, 0,\n",
              "        0, 0, 0, 0, 0, 0, 0, 0, 0, 0, 0, 0, 0, 0, 0, 0, 0, 0, 0, 0, 0, 0,\n",
              "        0, 0, 0, 0, 0, 0, 0, 0, 0, 0, 0, 0, 0, 0, 0, 0, 0, 0]],\n",
              "      dtype=int32)>"
            ]
          },
          "metadata": {},
          "execution_count": 6
        }
      ]
    },
    {
      "cell_type": "code",
      "source": [
        "text_processed['input_type_ids']"
      ],
      "metadata": {
        "colab": {
          "base_uri": "https://localhost:8080/"
        },
        "id": "UWTfoUpyJK_K",
        "outputId": "ea1ec2c7-814a-48f4-ff0b-64891db34cf8"
      },
      "execution_count": 7,
      "outputs": [
        {
          "output_type": "execute_result",
          "data": {
            "text/plain": [
              "<tf.Tensor: shape=(2, 128), dtype=int32, numpy=\n",
              "array([[0, 0, 0, 0, 0, 0, 0, 0, 0, 0, 0, 0, 0, 0, 0, 0, 0, 0, 0, 0, 0, 0,\n",
              "        0, 0, 0, 0, 0, 0, 0, 0, 0, 0, 0, 0, 0, 0, 0, 0, 0, 0, 0, 0, 0, 0,\n",
              "        0, 0, 0, 0, 0, 0, 0, 0, 0, 0, 0, 0, 0, 0, 0, 0, 0, 0, 0, 0, 0, 0,\n",
              "        0, 0, 0, 0, 0, 0, 0, 0, 0, 0, 0, 0, 0, 0, 0, 0, 0, 0, 0, 0, 0, 0,\n",
              "        0, 0, 0, 0, 0, 0, 0, 0, 0, 0, 0, 0, 0, 0, 0, 0, 0, 0, 0, 0, 0, 0,\n",
              "        0, 0, 0, 0, 0, 0, 0, 0, 0, 0, 0, 0, 0, 0, 0, 0, 0, 0],\n",
              "       [0, 0, 0, 0, 0, 0, 0, 0, 0, 0, 0, 0, 0, 0, 0, 0, 0, 0, 0, 0, 0, 0,\n",
              "        0, 0, 0, 0, 0, 0, 0, 0, 0, 0, 0, 0, 0, 0, 0, 0, 0, 0, 0, 0, 0, 0,\n",
              "        0, 0, 0, 0, 0, 0, 0, 0, 0, 0, 0, 0, 0, 0, 0, 0, 0, 0, 0, 0, 0, 0,\n",
              "        0, 0, 0, 0, 0, 0, 0, 0, 0, 0, 0, 0, 0, 0, 0, 0, 0, 0, 0, 0, 0, 0,\n",
              "        0, 0, 0, 0, 0, 0, 0, 0, 0, 0, 0, 0, 0, 0, 0, 0, 0, 0, 0, 0, 0, 0,\n",
              "        0, 0, 0, 0, 0, 0, 0, 0, 0, 0, 0, 0, 0, 0, 0, 0, 0, 0]],\n",
              "      dtype=int32)>"
            ]
          },
          "metadata": {},
          "execution_count": 7
        }
      ]
    },
    {
      "cell_type": "code",
      "source": [
        "text_processed['input_word_ids']\n",
        "\n",
        "# CLS Really liked the movie SEP\n",
        "# 101,  2428,  4669,  1996,  3185,   102,\n",
        "\n",
        "\n",
        "# CLS I like cinematography SEP\n",
        "# 101,  1045,  2066, 16434,   102"
      ],
      "metadata": {
        "colab": {
          "base_uri": "https://localhost:8080/"
        },
        "id": "A6JltX2aJ726",
        "outputId": "8c4ca29b-9b12-4cb5-f00a-505c41f860e5"
      },
      "execution_count": 8,
      "outputs": [
        {
          "output_type": "execute_result",
          "data": {
            "text/plain": [
              "<tf.Tensor: shape=(2, 128), dtype=int32, numpy=\n",
              "array([[  101,  2428,  4669,  1996,  3185,   102,     0,     0,     0,\n",
              "            0,     0,     0,     0,     0,     0,     0,     0,     0,\n",
              "            0,     0,     0,     0,     0,     0,     0,     0,     0,\n",
              "            0,     0,     0,     0,     0,     0,     0,     0,     0,\n",
              "            0,     0,     0,     0,     0,     0,     0,     0,     0,\n",
              "            0,     0,     0,     0,     0,     0,     0,     0,     0,\n",
              "            0,     0,     0,     0,     0,     0,     0,     0,     0,\n",
              "            0,     0,     0,     0,     0,     0,     0,     0,     0,\n",
              "            0,     0,     0,     0,     0,     0,     0,     0,     0,\n",
              "            0,     0,     0,     0,     0,     0,     0,     0,     0,\n",
              "            0,     0,     0,     0,     0,     0,     0,     0,     0,\n",
              "            0,     0,     0,     0,     0,     0,     0,     0,     0,\n",
              "            0,     0,     0,     0,     0,     0,     0,     0,     0,\n",
              "            0,     0,     0,     0,     0,     0,     0,     0,     0,\n",
              "            0,     0],\n",
              "       [  101,  1045,  2066, 16434,   102,     0,     0,     0,     0,\n",
              "            0,     0,     0,     0,     0,     0,     0,     0,     0,\n",
              "            0,     0,     0,     0,     0,     0,     0,     0,     0,\n",
              "            0,     0,     0,     0,     0,     0,     0,     0,     0,\n",
              "            0,     0,     0,     0,     0,     0,     0,     0,     0,\n",
              "            0,     0,     0,     0,     0,     0,     0,     0,     0,\n",
              "            0,     0,     0,     0,     0,     0,     0,     0,     0,\n",
              "            0,     0,     0,     0,     0,     0,     0,     0,     0,\n",
              "            0,     0,     0,     0,     0,     0,     0,     0,     0,\n",
              "            0,     0,     0,     0,     0,     0,     0,     0,     0,\n",
              "            0,     0,     0,     0,     0,     0,     0,     0,     0,\n",
              "            0,     0,     0,     0,     0,     0,     0,     0,     0,\n",
              "            0,     0,     0,     0,     0,     0,     0,     0,     0,\n",
              "            0,     0,     0,     0,     0,     0,     0,     0,     0,\n",
              "            0,     0]], dtype=int32)>"
            ]
          },
          "metadata": {},
          "execution_count": 8
        }
      ]
    },
    {
      "cell_type": "markdown",
      "source": [
        "Encoder URL"
      ],
      "metadata": {
        "id": "rvkgN9XFKg1e"
      }
    },
    {
      "cell_type": "code",
      "source": [
        "bert_model = hub.KerasLayer(encoder_url)\n",
        "bert_results = bert_model(text_processed)\n",
        "bert_results.keys()"
      ],
      "metadata": {
        "colab": {
          "base_uri": "https://localhost:8080/"
        },
        "id": "RmeJUi6oKErQ",
        "outputId": "25e61b3d-ef4e-4489-eb9d-dd0dfab720a3"
      },
      "execution_count": 9,
      "outputs": [
        {
          "output_type": "execute_result",
          "data": {
            "text/plain": [
              "dict_keys(['default', 'encoder_outputs', 'pooled_output', 'sequence_output'])"
            ]
          },
          "metadata": {},
          "execution_count": 9
        }
      ]
    },
    {
      "cell_type": "code",
      "source": [
        "bert_results['pooled_output']\n",
        "\n",
        "# These are the embedding vectors for two sentences."
      ],
      "metadata": {
        "colab": {
          "base_uri": "https://localhost:8080/"
        },
        "id": "eghA_FcoK8X3",
        "outputId": "33e4bb0c-9c6f-4913-9019-a6591e78f5fe"
      },
      "execution_count": 10,
      "outputs": [
        {
          "output_type": "execute_result",
          "data": {
            "text/plain": [
              "<tf.Tensor: shape=(2, 768), dtype=float32, numpy=\n",
              "array([[-0.8263064 , -0.17278126,  0.27924013, ...,  0.15713035,\n",
              "        -0.45232818,  0.7954692 ],\n",
              "       [-0.8771158 , -0.29176295,  0.02833419, ...,  0.09874732,\n",
              "        -0.6452149 ,  0.89032835]], dtype=float32)>"
            ]
          },
          "metadata": {},
          "execution_count": 10
        }
      ]
    },
    {
      "cell_type": "code",
      "source": [
        "bert_results['sequence_output']\n",
        "\n",
        "#These are the embeddings for each word in the sentence"
      ],
      "metadata": {
        "colab": {
          "base_uri": "https://localhost:8080/"
        },
        "id": "rYe63de4LKBQ",
        "outputId": "700b0a28-6902-4b50-d52f-98a7a095e7a3"
      },
      "execution_count": 11,
      "outputs": [
        {
          "output_type": "execute_result",
          "data": {
            "text/plain": [
              "<tf.Tensor: shape=(2, 128, 768), dtype=float32, numpy=\n",
              "array([[[ 0.09783484, -0.03506267,  0.04358425, ..., -0.06985385,\n",
              "          0.22276464,  0.00362622],\n",
              "        [ 0.48102134, -0.20802848,  0.24011154, ..., -0.24409075,\n",
              "          0.9974468 , -0.2940345 ],\n",
              "        [ 0.41661012, -0.51480633,  1.1655794 , ...,  0.16880813,\n",
              "          0.30385143,  0.00870666],\n",
              "        ...,\n",
              "        [ 0.2524331 , -0.10780718,  0.48388675, ..., -0.0937157 ,\n",
              "          0.18637109, -0.0528587 ],\n",
              "        [ 0.23508075, -0.10369442,  0.50139844, ..., -0.09330641,\n",
              "          0.17374349, -0.04942637],\n",
              "        [ 0.08065768, -0.27257746,  0.5423633 , ...,  0.0235246 ,\n",
              "          0.11328863, -0.05822545]],\n",
              "\n",
              "       [[-0.02086344,  0.15232871, -0.15997295, ..., -0.0849948 ,\n",
              "          0.35775068,  0.28517592],\n",
              "        [ 0.23832995, -0.10287976,  0.18971658, ..., -0.08109708,\n",
              "          0.61584616,  0.10237086],\n",
              "        [ 0.5738043 ,  0.10930991,  0.8985311 , ...,  0.42202955,\n",
              "          0.74049795, -0.06434388],\n",
              "        ...,\n",
              "        [ 0.322692  , -0.03047944,  0.30220503, ...,  0.21239623,\n",
              "          0.2699982 , -0.00768385],\n",
              "        [ 0.18540198, -0.06577384,  0.15405913, ...,  0.24930276,\n",
              "          0.291837  , -0.02995136],\n",
              "        [-0.07532762, -0.21993087,  0.05429514, ...,  0.43482277,\n",
              "          0.2673405 , -0.08122405]]], dtype=float32)>"
            ]
          },
          "metadata": {},
          "execution_count": 11
        }
      ]
    },
    {
      "cell_type": "code",
      "source": [
        "len(bert_results['encoder_outputs'])\n",
        "# This is becuase we are using bert base with 12 encoders"
      ],
      "metadata": {
        "colab": {
          "base_uri": "https://localhost:8080/"
        },
        "id": "jIHkPSZnLsEj",
        "outputId": "2dc77d3a-9c04-4fd1-c259-e090219624b1"
      },
      "execution_count": 12,
      "outputs": [
        {
          "output_type": "execute_result",
          "data": {
            "text/plain": [
              "12"
            ]
          },
          "metadata": {},
          "execution_count": 12
        }
      ]
    },
    {
      "cell_type": "code",
      "source": [
        "bert_results['encoder_outputs']\n",
        "#Each layer has 768 size embedding vector"
      ],
      "metadata": {
        "colab": {
          "base_uri": "https://localhost:8080/"
        },
        "id": "i4QIzperMEHJ",
        "outputId": "38a6e1ea-0d78-4d20-f2b1-274d2a1b47a0"
      },
      "execution_count": 13,
      "outputs": [
        {
          "output_type": "execute_result",
          "data": {
            "text/plain": [
              "[<tf.Tensor: shape=(2, 128, 768), dtype=float32, numpy=\n",
              " array([[[ 0.22413814,  0.06598763, -0.12141633, ...,  0.10352281,\n",
              "           0.11091131,  0.0504744 ],\n",
              "         [ 1.0873793 ,  1.1775429 ,  0.29433444, ...,  1.5940297 ,\n",
              "           1.9120454 , -0.62365896],\n",
              "         [-0.17793012,  0.60245115,  0.70869476, ..., -0.46072954,\n",
              "           0.10279997,  0.03374783],\n",
              "         ...,\n",
              "         [-0.13997832, -0.22730705,  0.576831  , ...,  0.5289305 ,\n",
              "          -0.09513379,  0.0949588 ],\n",
              "         [-0.2148868 , -0.26212257,  0.4560125 , ...,  0.5649713 ,\n",
              "          -0.00419325,  0.00845928],\n",
              "         [-0.09613963, -0.19786616,  0.48470056, ...,  0.82535076,\n",
              "          -0.25161666, -0.05972811]],\n",
              " \n",
              "        [[ 0.14680892, -0.00785897, -0.0800485 , ...,  0.0275598 ,\n",
              "           0.13790122,  0.05448858],\n",
              "         [ 0.57063115,  1.1444637 , -0.469595  , ...,  0.55202854,\n",
              "           1.0602752 ,  0.18420425],\n",
              "         [ 0.00402201,  1.4841332 ,  0.4806977 , ..., -0.07598991,\n",
              "           0.9810401 ,  0.01104081],\n",
              "         ...,\n",
              "         [-0.05032089, -0.1540232 ,  0.6474855 , ...,  0.37263188,\n",
              "          -0.1065408 ,  0.24074852],\n",
              "         [-0.1520682 , -0.2116778 ,  0.5144945 , ...,  0.39306164,\n",
              "          -0.0197554 ,  0.10017103],\n",
              "         [-0.02498784, -0.10948509,  0.51860374, ...,  0.71668756,\n",
              "          -0.35279018,  0.03380783]]], dtype=float32)>,\n",
              " <tf.Tensor: shape=(2, 128, 768), dtype=float32, numpy=\n",
              " array([[[ 0.03173685, -0.14773746, -0.19861627, ...,  0.15299724,\n",
              "           0.16812548,  0.03986897],\n",
              "         [ 1.1065087 ,  1.4416634 ,  1.0776997 , ...,  1.5010905 ,\n",
              "           1.9468054 , -0.1438673 ],\n",
              "         [ 0.15752248,  0.79171354,  0.83433753, ..., -0.18400988,\n",
              "          -0.07341908, -0.15665396],\n",
              "         ...,\n",
              "         [-0.3773242 , -0.29502285,  0.79123515, ...,  1.1398636 ,\n",
              "          -0.38184085, -0.0375254 ],\n",
              "         [-0.41686058, -0.20131016,  0.7006033 , ...,  1.1433301 ,\n",
              "          -0.3273746 , -0.16542388],\n",
              "         [-0.40698054, -0.19825184,  0.72406673, ...,  1.2303696 ,\n",
              "          -0.48659995, -0.17917916]],\n",
              " \n",
              "        [[ 0.02809542, -0.24101214, -0.18984666, ...,  0.09378713,\n",
              "           0.11075996,  0.1224525 ],\n",
              "         [ 0.46041977,  1.0756389 , -0.02981409, ...,  0.66709447,\n",
              "           0.70265305,  0.03304023],\n",
              "         [ 0.7434932 ,  1.4350367 ,  0.64060503, ...,  0.72581995,\n",
              "           0.8127503 , -0.11546911],\n",
              "         ...,\n",
              "         [-0.12876162, -0.03960051,  0.79477596, ...,  0.9211464 ,\n",
              "          -0.47168237,  0.05993216],\n",
              "         [-0.14176556,  0.00292508,  0.69042087, ...,  0.97006387,\n",
              "          -0.35719728,  0.02185738],\n",
              "         [-0.19699594, -0.03833753,  0.52257234, ...,  1.0988611 ,\n",
              "          -0.6187913 , -0.04082143]]], dtype=float32)>,\n",
              " <tf.Tensor: shape=(2, 128, 768), dtype=float32, numpy=\n",
              " array([[[ 1.09309502e-01, -2.68279672e-01, -1.20647103e-02, ...,\n",
              "           2.24850222e-01,  1.59699216e-01,  2.28048548e-01],\n",
              "         [ 1.35639846e+00,  9.41435754e-01,  1.28416967e+00, ...,\n",
              "           1.39169836e+00,  1.49061942e+00, -4.59180743e-01],\n",
              "         [ 2.57361054e-01,  4.06483471e-01,  1.22577667e+00, ...,\n",
              "           5.26985712e-02, -1.78029940e-01, -9.79220569e-02],\n",
              "         ...,\n",
              "         [-3.00459057e-01, -2.19591081e-01,  9.42329943e-01, ...,\n",
              "           1.11835957e+00,  5.01807369e-02, -3.58425602e-02],\n",
              "         [-3.49442393e-01, -1.64180800e-01,  8.25042844e-01, ...,\n",
              "           1.17570853e+00,  6.00286610e-02, -1.90470651e-01],\n",
              "         [-3.76456439e-01, -2.23279536e-01,  8.97996843e-01, ...,\n",
              "           1.22709978e+00, -1.70631558e-01, -1.75781533e-01]],\n",
              " \n",
              "        [[ 5.64823523e-02, -3.48630518e-01, -3.54908854e-02, ...,\n",
              "           2.81984419e-01,  4.74556051e-02,  2.39628762e-01],\n",
              "         [ 6.50427938e-01,  6.66106284e-01,  6.37133360e-01, ...,\n",
              "           6.85376942e-01,  2.63780713e-01, -1.04204938e-01],\n",
              "         [ 1.02246964e+00,  1.16577601e+00,  8.70890141e-01, ...,\n",
              "           5.64120889e-01,  1.52558982e-01, -2.46452719e-01],\n",
              "         ...,\n",
              "         [ 4.04189974e-02, -2.95122862e-02,  1.02568448e+00, ...,\n",
              "           9.73234236e-01, -4.91596051e-02, -7.38618374e-02],\n",
              "         [-9.56811011e-04, -6.41891360e-03,  8.78058553e-01, ...,\n",
              "           9.92281675e-01,  1.37725854e-02, -1.87488705e-01],\n",
              "         [-1.27915353e-01, -1.21192284e-01,  8.55471909e-01, ...,\n",
              "           1.14770544e+00, -3.01749527e-01, -2.26137757e-01]]],\n",
              "       dtype=float32)>,\n",
              " <tf.Tensor: shape=(2, 128, 768), dtype=float32, numpy=\n",
              " array([[[ 0.3308484 , -0.5700218 , -0.44909167, ...,  0.30163386,\n",
              "           0.03803409,  0.6046534 ],\n",
              "         [ 1.2890977 ,  1.1879404 ,  1.2070969 , ...,  1.5097878 ,\n",
              "           0.674879  , -0.17905998],\n",
              "         [ 0.5531322 ,  0.36156815,  0.8709016 , ...,  0.13011038,\n",
              "          -0.10678907,  0.26842073],\n",
              "         ...,\n",
              "         [-0.45489714, -0.6969115 ,  1.0525721 , ...,  0.92482096,\n",
              "          -0.24612296,  0.18141346],\n",
              "         [-0.5443315 , -0.58881974,  0.91374785, ...,  0.9874787 ,\n",
              "          -0.24538264, -0.02986736],\n",
              "         [-0.5721018 , -0.6286708 ,  1.0942352 , ...,  1.0808121 ,\n",
              "          -0.47724053, -0.03119739]],\n",
              " \n",
              "        [[ 0.2527425 , -0.5323819 , -0.382266  , ...,  0.454494  ,\n",
              "          -0.11282439,  0.6097367 ],\n",
              "         [ 0.4820459 ,  0.77381825, -0.0538151 , ...,  1.0247247 ,\n",
              "          -0.32171974, -0.22633436],\n",
              "         [ 1.167222  ,  0.61417466,  0.37190723, ...,  0.51952094,\n",
              "          -0.18410726,  0.12100343],\n",
              "         ...,\n",
              "         [-0.21018936, -0.42489663,  1.0987974 , ...,  0.8557146 ,\n",
              "          -0.48751548, -0.01754821],\n",
              "         [-0.2798245 , -0.43287605,  0.88090277, ...,  0.8147761 ,\n",
              "          -0.3331233 , -0.08554753],\n",
              "         [-0.50227827, -0.5602007 ,  0.98536646, ...,  1.1124241 ,\n",
              "          -0.5760878 , -0.20856172]]], dtype=float32)>,\n",
              " <tf.Tensor: shape=(2, 128, 768), dtype=float32, numpy=\n",
              " array([[[-0.14075215, -0.71421546, -0.45897403, ..., -0.17601365,\n",
              "           0.08461255,  0.55885965],\n",
              "         [ 1.3027576 ,  1.0204613 ,  1.2353699 , ...,  1.0513377 ,\n",
              "           0.4427852 , -0.01500742],\n",
              "         [ 0.91495454,  0.45491725,  0.6281788 , ...,  0.40660658,\n",
              "          -0.05575115,  0.20874557],\n",
              "         ...,\n",
              "         [-0.32449788, -0.46330893,  1.0632335 , ...,  0.5292955 ,\n",
              "          -0.01094981, -0.00831073],\n",
              "         [-0.3748763 , -0.3521303 ,  0.949708  , ...,  0.54794985,\n",
              "          -0.10253511, -0.15555552],\n",
              "         [-0.46446875, -0.43653265,  1.079494  , ...,  0.8316703 ,\n",
              "          -0.28658167, -0.11517961]],\n",
              " \n",
              "        [[-0.134958  , -0.6093408 , -0.52684164, ..., -0.04458264,\n",
              "           0.07121979,  0.7509982 ],\n",
              "         [ 0.464559  ,  0.15198773,  0.12472562, ...,  0.63408965,\n",
              "           0.3632236 , -0.15720077],\n",
              "         [ 1.4099694 ,  0.4553974 ,  0.19541565, ...,  0.18187913,\n",
              "          -0.24702229,  0.05170769],\n",
              "         ...,\n",
              "         [-0.14132218, -0.36770076,  0.88300943, ...,  0.52225757,\n",
              "          -0.2619816 , -0.16582486],\n",
              "         [-0.2120816 , -0.41063553,  0.734024  , ...,  0.6267971 ,\n",
              "          -0.0501678 , -0.15369582],\n",
              "         [-0.57492524, -0.47082034,  0.86033374, ...,  0.97468936,\n",
              "          -0.2965976 , -0.26325518]]], dtype=float32)>,\n",
              " <tf.Tensor: shape=(2, 128, 768), dtype=float32, numpy=\n",
              " array([[[-0.2911545 , -0.89988977, -0.51373565, ...,  0.0705373 ,\n",
              "           0.44659817,  0.7491405 ],\n",
              "         [ 1.1166264 ,  0.90003616,  1.085233  , ...,  0.45130593,\n",
              "           0.51723945, -0.06374945],\n",
              "         [ 0.93110764,  0.04435948,  0.6530705 , ...,  0.08890077,\n",
              "          -0.10692924,  0.30813974],\n",
              "         ...,\n",
              "         [-0.44457573, -0.22791237,  1.2053114 , ...,  0.5280305 ,\n",
              "          -0.06471326, -0.06457067],\n",
              "         [-0.49455455, -0.1759075 ,  1.1896046 , ...,  0.645438  ,\n",
              "          -0.13168001, -0.17413336],\n",
              "         [-0.60079634, -0.35274023,  1.344335  , ...,  0.9057366 ,\n",
              "          -0.2867706 , -0.15782627]],\n",
              " \n",
              "        [[-0.26828197, -0.8500048 , -0.6568808 , ...,  0.0604872 ,\n",
              "           0.2644062 ,  0.903698  ],\n",
              "         [ 0.30583143,  0.29218698, -0.11749745, ...,  0.3950577 ,\n",
              "           0.54850864, -0.39031252],\n",
              "         [ 1.4693913 ,  0.2492924 ,  0.2209659 , ...,  0.29161054,\n",
              "          -0.36165884,  0.14690226],\n",
              "         ...,\n",
              "         [-0.15726264, -0.3761903 ,  1.1663287 , ...,  0.73115164,\n",
              "          -0.3265266 , -0.29675195],\n",
              "         [-0.20519514, -0.3852146 ,  0.9354228 , ...,  0.7909408 ,\n",
              "          -0.15691538, -0.28235158],\n",
              "         [-0.66846424, -0.5043179 ,  1.0659624 , ...,  1.0328554 ,\n",
              "          -0.41472825, -0.36360636]]], dtype=float32)>,\n",
              " <tf.Tensor: shape=(2, 128, 768), dtype=float32, numpy=\n",
              " array([[[-1.99753344e-01, -1.11057436e+00, -5.16544521e-01, ...,\n",
              "          -8.71208608e-02,  8.21954370e-01,  1.12409782e+00],\n",
              "         [ 8.67990315e-01,  5.41338325e-01,  6.18710876e-01, ...,\n",
              "           3.26649666e-01,  5.86790323e-01, -3.94737184e-01],\n",
              "         [ 1.12424159e+00, -4.78008166e-02,  3.61709386e-01, ...,\n",
              "          -1.78185537e-01,  2.49833196e-01,  2.92720050e-01],\n",
              "         ...,\n",
              "         [-3.12130451e-01, -4.38787103e-01,  1.14528310e+00, ...,\n",
              "           7.54093349e-01,  1.34997338e-01,  1.16497837e-03],\n",
              "         [-2.78162956e-01, -3.17827880e-01,  1.12910759e+00, ...,\n",
              "           7.68797398e-01,  1.20292023e-01, -4.53411192e-02],\n",
              "         [-4.58971322e-01, -3.92540604e-01,  1.25641882e+00, ...,\n",
              "           8.89928162e-01, -2.82280520e-03, -9.27334875e-02]],\n",
              " \n",
              "        [[-3.37441683e-01, -7.34175026e-01, -6.61533892e-01, ...,\n",
              "           4.17751461e-01,  5.55957854e-01,  8.94098580e-01],\n",
              "         [ 2.71666497e-01,  1.99211732e-01, -3.46522480e-01, ...,\n",
              "           4.26895589e-01,  7.85645366e-01, -2.34244421e-01],\n",
              "         [ 7.88048804e-01,  3.85035574e-01,  6.75501823e-01, ...,\n",
              "           3.15473676e-01, -1.31252334e-01, -2.44352728e-01],\n",
              "         ...,\n",
              "         [ 1.83077067e-01, -4.08547759e-01,  1.17360640e+00, ...,\n",
              "           7.96787560e-01, -8.91886353e-02, -1.22440726e-01],\n",
              "         [ 6.10394180e-02, -4.25797671e-01,  8.55543792e-01, ...,\n",
              "           7.74928927e-01,  8.32559243e-02, -2.33526379e-01],\n",
              "         [-5.39840519e-01, -6.12204611e-01,  9.15305555e-01, ...,\n",
              "           9.37577605e-01, -1.87729031e-01, -3.70801359e-01]]],\n",
              "       dtype=float32)>,\n",
              " <tf.Tensor: shape=(2, 128, 768), dtype=float32, numpy=\n",
              " array([[[ 0.23285171, -0.9329773 , -0.6149684 , ..., -0.4375142 ,\n",
              "           0.73259175,  0.8837556 ],\n",
              "         [ 1.0041362 ,  0.37949276,  1.0395434 , ..., -0.14492217,\n",
              "           0.54439294,  0.0512561 ],\n",
              "         [ 1.1004357 , -0.06566706,  0.4293787 , ..., -0.34171835,\n",
              "           0.57063764,  0.07362804],\n",
              "         ...,\n",
              "         [-0.04807775, -0.19285968,  0.9358682 , ...,  0.53700846,\n",
              "           0.19870456,  0.19173104],\n",
              "         [-0.02646933, -0.07743768,  1.0293157 , ...,  0.4821054 ,\n",
              "           0.14612998,  0.09707753],\n",
              "         [-0.37503397, -0.19544683,  1.1237067 , ...,  0.5694744 ,\n",
              "          -0.16821855, -0.0383891 ]],\n",
              " \n",
              "        [[-0.02606428, -0.55907094, -1.078281  , ..., -0.31242132,\n",
              "           0.5382897 ,  0.85215825],\n",
              "         [ 0.1815254 , -0.15662582, -0.95023817, ..., -0.1193174 ,\n",
              "           0.34988168,  0.02541673],\n",
              "         [ 0.8032081 ,  0.52820224,  0.9059658 , ..., -0.3640855 ,\n",
              "           0.21598405, -0.11001222],\n",
              "         ...,\n",
              "         [ 0.47407645, -0.31588537,  1.1739672 , ...,  0.8426502 ,\n",
              "          -0.13802674, -0.1467871 ],\n",
              "         [ 0.19910651, -0.3437277 ,  0.78900653, ...,  0.8416466 ,\n",
              "           0.08535944, -0.33408692],\n",
              "         [-0.74065447, -0.48445037,  0.57921255, ...,  0.8736198 ,\n",
              "          -0.2889993 , -0.4785003 ]]], dtype=float32)>,\n",
              " <tf.Tensor: shape=(2, 128, 768), dtype=float32, numpy=\n",
              " array([[[ 0.23523015, -0.6665444 , -0.38602543, ..., -0.45702386,\n",
              "           0.52366215,  0.5805884 ],\n",
              "         [ 0.8414892 ,  0.70472145,  1.0666445 , ..., -0.22258133,\n",
              "           0.5552508 , -0.02471106],\n",
              "         [ 0.86758447,  0.08853821,  0.47529262, ..., -0.22760774,\n",
              "           0.54325265,  0.07689562],\n",
              "         ...,\n",
              "         [-0.2317991 ,  0.2856485 ,  0.8978861 , ...,  0.6467791 ,\n",
              "           0.40360874,  0.4415347 ],\n",
              "         [-0.19243366,  0.36922294,  1.004728  , ...,  0.5695464 ,\n",
              "           0.35803556,  0.38886186],\n",
              "         [-0.42144623, -0.04849042,  1.0394574 , ...,  0.68305427,\n",
              "           0.02286071,  0.1921926 ]],\n",
              " \n",
              "        [[-0.3306006 , -0.12344264, -1.0679715 , ..., -0.06933372,\n",
              "           0.6582057 ,  0.5648536 ],\n",
              "         [-0.09826854,  0.15090162, -0.12685353, ...,  0.05811131,\n",
              "           0.08020139,  0.07998984],\n",
              "         [ 0.4610986 ,  0.60587424,  0.8419259 , ..., -0.07737651,\n",
              "           0.3967396 , -0.2612206 ],\n",
              "         ...,\n",
              "         [ 0.590364  , -0.1820335 ,  1.2187927 , ...,  1.0037326 ,\n",
              "           0.14111292, -0.27764842],\n",
              "         [ 0.24996528, -0.41259533,  0.82178706, ...,  0.8729195 ,\n",
              "           0.37461254, -0.62590677],\n",
              "         [-0.8016996 , -0.67555404,  0.434601  , ...,  1.0321896 ,\n",
              "           0.01710126, -0.84089476]]], dtype=float32)>,\n",
              " <tf.Tensor: shape=(2, 128, 768), dtype=float32, numpy=\n",
              " array([[[-0.02599667, -0.8387403 , -0.17227791, ..., -0.59359276,\n",
              "          -0.01544209,  0.40638566],\n",
              "         [ 0.80163884,  0.08456755,  0.5969655 , ..., -0.74572146,\n",
              "           0.72797227, -0.59742284],\n",
              "         [ 0.78694797, -0.30841228,  0.8211583 , ..., -0.8906802 ,\n",
              "           0.5512501 , -0.22240692],\n",
              "         ...,\n",
              "         [-0.42662647,  0.05432633,  0.7486718 , ...,  0.3711639 ,\n",
              "           0.30441037,  0.13710102],\n",
              "         [-0.41174373,  0.11549393,  0.81288135, ...,  0.3663331 ,\n",
              "           0.24981607,  0.16903067],\n",
              "         [-0.57836354, -0.2969861 ,  0.9352093 , ...,  0.64805424,\n",
              "          -0.22475411,  0.2214619 ]],\n",
              " \n",
              "        [[-0.33665314, -0.44731945, -0.9952691 , ..., -0.09539337,\n",
              "           0.3759167 ,  0.59196824],\n",
              "         [ 0.18568978, -0.35913655,  0.14569041, ..., -0.22025287,\n",
              "           0.24025053, -0.18371123],\n",
              "         [ 0.46559322,  0.34996805,  0.51795375, ..., -0.10673019,\n",
              "           0.31042928, -0.4506605 ],\n",
              "         ...,\n",
              "         [ 0.36907506, -0.17488022,  0.8876525 , ...,  0.611172  ,\n",
              "           0.1932688 , -0.33915845],\n",
              "         [ 0.0393982 , -0.3506012 ,  0.5206582 , ...,  0.622461  ,\n",
              "           0.4121742 , -0.65691453],\n",
              "         [-0.9714027 , -0.68579334,  0.21201845, ...,  0.98326725,\n",
              "           0.10188691, -0.81632966]]], dtype=float32)>,\n",
              " <tf.Tensor: shape=(2, 128, 768), dtype=float32, numpy=\n",
              " array([[[ 0.13234921, -0.4977277 ,  0.00620037, ..., -0.32350886,\n",
              "           0.01153608, -0.10443465],\n",
              "         [ 1.0235806 , -0.21441929,  0.31792548, ..., -0.6037788 ,\n",
              "           0.40407345, -0.8180298 ],\n",
              "         [ 0.84292364, -0.23028843,  1.1390325 , ..., -0.8088376 ,\n",
              "           0.43106246, -0.05908996],\n",
              "         ...,\n",
              "         [ 0.22326231, -0.43144011,  0.68400395, ..., -0.07920662,\n",
              "          -0.04993377, -0.16298687],\n",
              "         [ 0.21880476, -0.4028558 ,  0.7300809 , ..., -0.11740865,\n",
              "          -0.09861432, -0.14498469],\n",
              "         [-0.11457851, -0.7906833 ,  0.8857018 , ...,  0.01825664,\n",
              "          -0.27295306, -0.05041293]],\n",
              " \n",
              "        [[ 0.00877705, -0.20087886, -0.6137289 , ..., -0.14038897,\n",
              "           0.56922084,  0.57725376],\n",
              "         [ 0.25417075, -0.3863017 ,  0.10802832, ..., -0.26794443,\n",
              "           0.60107976, -0.04175973],\n",
              "         [ 0.7793642 ,  0.57368636,  0.8635133 , ..., -0.30800962,\n",
              "           0.7614184 , -0.03937887],\n",
              "         ...,\n",
              "         [ 0.6001641 , -0.12041917,  0.6306753 , ...,  0.30307257,\n",
              "           0.15921658, -0.19526327],\n",
              "         [ 0.21258283, -0.2928847 ,  0.34004653, ...,  0.41123518,\n",
              "           0.26259562, -0.35464436],\n",
              "         [-0.5261205 , -0.65195   ,  0.17774881, ...,  0.84644425,\n",
              "           0.12348648, -0.5747451 ]]], dtype=float32)>,\n",
              " <tf.Tensor: shape=(2, 128, 768), dtype=float32, numpy=\n",
              " array([[[ 0.09783484, -0.03506267,  0.04358425, ..., -0.06985385,\n",
              "           0.22276464,  0.00362622],\n",
              "         [ 0.48102134, -0.20802848,  0.24011154, ..., -0.24409075,\n",
              "           0.9974468 , -0.2940345 ],\n",
              "         [ 0.41661012, -0.51480633,  1.1655794 , ...,  0.16880813,\n",
              "           0.30385143,  0.00870666],\n",
              "         ...,\n",
              "         [ 0.2524331 , -0.10780718,  0.48388675, ..., -0.0937157 ,\n",
              "           0.18637109, -0.0528587 ],\n",
              "         [ 0.23508075, -0.10369442,  0.50139844, ..., -0.09330641,\n",
              "           0.17374349, -0.04942637],\n",
              "         [ 0.08065768, -0.27257746,  0.5423633 , ...,  0.0235246 ,\n",
              "           0.11328863, -0.05822545]],\n",
              " \n",
              "        [[-0.02086344,  0.15232871, -0.15997295, ..., -0.0849948 ,\n",
              "           0.35775068,  0.28517592],\n",
              "         [ 0.23832995, -0.10287976,  0.18971658, ..., -0.08109708,\n",
              "           0.61584616,  0.10237086],\n",
              "         [ 0.5738043 ,  0.10930991,  0.8985311 , ...,  0.42202955,\n",
              "           0.74049795, -0.06434388],\n",
              "         ...,\n",
              "         [ 0.322692  , -0.03047944,  0.30220503, ...,  0.21239623,\n",
              "           0.2699982 , -0.00768385],\n",
              "         [ 0.18540198, -0.06577384,  0.15405913, ...,  0.24930276,\n",
              "           0.291837  , -0.02995136],\n",
              "         [-0.07532762, -0.21993087,  0.05429514, ...,  0.43482277,\n",
              "           0.2673405 , -0.08122405]]], dtype=float32)>]"
            ]
          },
          "metadata": {},
          "execution_count": 13
        }
      ]
    },
    {
      "cell_type": "code",
      "source": [
        "bert_results['encoder_outputs'][-1] == bert_results['sequence_output']\n",
        "\n",
        "#These both are same"
      ],
      "metadata": {
        "colab": {
          "base_uri": "https://localhost:8080/"
        },
        "id": "hGYwjP7pMPpE",
        "outputId": "3238662c-8244-4b0e-c191-04cf0b14bce9"
      },
      "execution_count": 14,
      "outputs": [
        {
          "output_type": "execute_result",
          "data": {
            "text/plain": [
              "<tf.Tensor: shape=(2, 128, 768), dtype=bool, numpy=\n",
              "array([[[ True,  True,  True, ...,  True,  True,  True],\n",
              "        [ True,  True,  True, ...,  True,  True,  True],\n",
              "        [ True,  True,  True, ...,  True,  True,  True],\n",
              "        ...,\n",
              "        [ True,  True,  True, ...,  True,  True,  True],\n",
              "        [ True,  True,  True, ...,  True,  True,  True],\n",
              "        [ True,  True,  True, ...,  True,  True,  True]],\n",
              "\n",
              "       [[ True,  True,  True, ...,  True,  True,  True],\n",
              "        [ True,  True,  True, ...,  True,  True,  True],\n",
              "        [ True,  True,  True, ...,  True,  True,  True],\n",
              "        ...,\n",
              "        [ True,  True,  True, ...,  True,  True,  True],\n",
              "        [ True,  True,  True, ...,  True,  True,  True],\n",
              "        [ True,  True,  True, ...,  True,  True,  True]]])>"
            ]
          },
          "metadata": {},
          "execution_count": 14
        }
      ]
    },
    {
      "cell_type": "code",
      "source": [],
      "metadata": {
        "id": "5t5_hdAtM3h4"
      },
      "execution_count": null,
      "outputs": []
    }
  ]
}